{
 "cells": [
  {
   "cell_type": "markdown",
   "metadata": {},
   "source": [
    "# **Data Exploration and Analysis**\n",
    "\n",
    "This notebook aims to conduct a comprehensive data exploration to analyze frequency-related characteristics between different languages. We will focus on examining differences between genders for each language, including various statistical properties and visualizations."
   ]
  },
  {
   "cell_type": "markdown",
   "metadata": {},
   "source": [
    "## **1. Setup and Imports**"
   ]
  },
  {
   "cell_type": "code",
   "execution_count": null,
   "metadata": {},
   "outputs": [],
   "source": [
    "import matplotlib.pyplot as plt\n",
    "import seaborn as sns\n",
    "import pandas as pd\n",
    "\n",
    "from pathlib import Path\n",
    "from sklearn.preprocessing import StandardScaler\n",
    "\n",
    "\n",
    "pd.set_option('display.max_columns', None)\n",
    "pd.set_option('display.width', 1000)"
   ]
  },
  {
   "cell_type": "markdown",
   "metadata": {},
   "source": [
    "## **2. Constants**"
   ]
  },
  {
   "cell_type": "code",
   "execution_count": null,
   "metadata": {},
   "outputs": [],
   "source": [
    "FEATURES_DIR = Path('../data/features')\n",
    "PLOTS_DIR = Path('../data/plots')\n",
    "PLOTS_DIR.mkdir(exist_ok=True, parents=True)\n",
    "\n",
    "SKIP_TEENS = False\n",
    "SAVE_PLOTS = True\n",
    "\n",
    "COLORS = {\n",
    "    'male': '#4682B4',\n",
    "    'female': '#F3A5B1'\n",
    "    }\n",
    "\n",
    "LANGUAGE_CODES =   ['es',\n",
    "                    'sw',\n",
    "                    'be',\n",
    "                    'ba',\n",
    "                    'ru',\n",
    "                    'lv',\n",
    "                    'pl',\n",
    "                    'tr',\n",
    "                    'ckb',\n",
    "                    'ja',\n",
    "                    'zh-TW',\n",
    "                    'uk',\n",
    "                    'zh-HK',\n",
    "                    'nl',\n",
    "                    'cy']"
   ]
  },
  {
   "cell_type": "markdown",
   "metadata": {},
   "source": [
    "## **3. Data Normalization Function**"
   ]
  },
  {
   "cell_type": "code",
   "execution_count": null,
   "metadata": {},
   "outputs": [],
   "source": [
    "def normalize_features(df: pd.DataFrame, feature_columns):\n",
    "    scaler = StandardScaler()\n",
    "    df[feature_columns] = scaler.fit_transform(df[feature_columns])\n",
    "\n",
    "    return df"
   ]
  },
  {
   "cell_type": "markdown",
   "metadata": {},
   "source": [
    "## **4. Data Loading and Filtering Functions**"
   ]
  },
  {
   "cell_type": "code",
   "execution_count": null,
   "metadata": {},
   "outputs": [],
   "source": [
    "\n",
    "\n",
    "def filter_out_age_group(df: pd.DataFrame, age_column='age', age_group='teens', lang_code=''):\n",
    "    initial_rows = len(df)\n",
    "    df_filtered = df[~df[age_column].str.contains(age_group, case=False)]\n",
    "    \n",
    "    print(f'Dropped {initial_rows - len(df_filtered)} records of {age_group} from the dataset for {lang_code}')\n",
    "\n",
    "    return df_filtered\n",
    "\n",
    "\n",
    "def load_features(language_code):\n",
    "    file_path = FEATURES_DIR / f'{language_code}_features.csv'\n",
    "    \n",
    "    if not file_path.exists():\n",
    "        print(f'File {file_path.name} does not exist. Please run the feature extraction script first.')\n",
    "        return None\n",
    "    \n",
    "    df_features = pd.read_csv(file_path)\n",
    "\n",
    "    df_features = normalize_features(df_features, ['pitch_mean', 'hnr_mean', 'spectral_centroid_mean', 'spectral_bandwidth_mean', 'spectral_flatness_mean', 'zcr_mean'])\n",
    "\n",
    "    if SKIP_TEENS:\n",
    "       return filter_out_age_group(df_features, lang_code=language_code)\n",
    "    \n",
    "    return df_features\n",
    "\n",
    "\n",
    "def split_by_gender(df: pd.DataFrame, gender_column='gender'):\n",
    "    df_male = df[df[gender_column].str.startswith('male')]\n",
    "    df_female = df[df[gender_column].str.startswith('female')]\n",
    "\n",
    "    return df_male, df_female\n",
    "\n",
    "\n",
    "def filter_gender_male_female(df: pd.DataFrame, gender_column='gender'):\n",
    "    return df[df[gender_column].str.startswith(('male', 'female'))]"
   ]
  },
  {
   "cell_type": "markdown",
   "metadata": {},
   "source": [
    "## **5. Basic Data Analysis**\n",
    "\n",
    "In this step we load the data and perform some basic data analysis, like:\n",
    "- counting the number of males and females\n",
    "- calculating male to female ratio\n",
    "- counting the number of teens (age < 20) and adults (age >= 20)"
   ]
  },
  {
   "cell_type": "code",
   "execution_count": null,
   "metadata": {},
   "outputs": [],
   "source": [
    "summary_data = []\n",
    "\n",
    "\n",
    "for lang_code in LANGUAGE_CODES:\n",
    "    df_features = load_features(lang_code)\n",
    "    \n",
    "    if not isinstance(df_features, pd.DataFrame):\n",
    "        continue\n",
    "\n",
    "    num_rows = len(df_features)\n",
    "\n",
    "    df_male, df_female = split_by_gender(df_features)\n",
    "    \n",
    "    male_count = len(df_male)\n",
    "    female_count = len(df_female)\n",
    "\n",
    "    # Age classification: count 'teens' (13-19) or 'adults' (20+)\n",
    "    df_features['age_group'] = df_features['age'].apply(\n",
    "        lambda x: 'teens' if 'teens' in str(x).lower() else 'adults'\n",
    "    )\n",
    "\n",
    "    age_group_counts = df_features['age_group'].value_counts().to_dict()\n",
    "    teens_count = age_group_counts.get('teens', 0)\n",
    "    adults_count = age_group_counts.get('adults', 0)\n",
    "\n",
    "    summary_data.append([lang_code, num_rows, male_count, female_count, teens_count, adults_count])\n",
    "\n",
    "\n",
    "summary_columns = ['Language', 'Total', 'Male', 'Female', 'Teens', 'Adults']\n",
    "\n",
    "summary_df = pd.DataFrame(summary_data, columns=summary_columns)\n",
    "\n",
    "summary_df\n"
   ]
  },
  {
   "cell_type": "code",
   "execution_count": null,
   "metadata": {},
   "outputs": [],
   "source": [
    "plt.figure(figsize=(10, 6))\n",
    "\n",
    "plt.bar(summary_df['Language'], summary_df['Male'], label='Male', color=COLORS['male'])\n",
    "plt.bar(summary_df['Language'], summary_df['Female'], bottom=summary_df['Male'], label='Female', color=COLORS['female'])\n",
    "\n",
    "plt.title('Number of Records by Language and Gender')\n",
    "plt.xlabel('Language')\n",
    "plt.ylabel('Count')\n",
    "plt.legend()\n",
    "\n",
    "if SAVE_PLOTS:\n",
    "    plt.savefig(PLOTS_DIR / 'record_count_by_gender.png')\n",
    "\n",
    "plt.show()"
   ]
  },
  {
   "cell_type": "markdown",
   "metadata": {},
   "source": [
    "## **6. Data Exploration**\n",
    "\n",
    "This section covers in-depth data exploration using KDE plots, boxplots, heatmaps, and violin plots."
   ]
  },
  {
   "cell_type": "markdown",
   "metadata": {},
   "source": [
    "### **6.1 KDE Plots**"
   ]
  },
  {
   "cell_type": "code",
   "execution_count": null,
   "metadata": {},
   "outputs": [],
   "source": [
    "import math\n",
    "\n",
    "def plot_kde_per_language(feature: str, gender: str):\n",
    "    num_languages = len(LANGUAGE_CODES)\n",
    "    num_cols = 3\n",
    "    num_rows = math.ceil(num_languages / num_cols)\n",
    "    \n",
    "    fig, axes = plt.subplots(num_rows, num_cols, figsize=(15, 4 * num_rows), sharey=True)\n",
    "    axes = axes.flatten()\n",
    "    \n",
    "    for i, lang_code in enumerate(LANGUAGE_CODES):\n",
    "        df_features = load_features(lang_code)\n",
    "\n",
    "        if df_features is None:\n",
    "            continue\n",
    "\n",
    "        df_gender = df_features[df_features['gender'].str.startswith(gender)]\n",
    "        \n",
    "        sns.kdeplot(data=df_gender, x=feature, fill=False, bw_adjust=1.5, ax=axes[i])\n",
    "        axes[i].set_title(f'{feature.capitalize()} KDE in {lang_code}', fontsize=10)\n",
    "\n",
    "    for j in range(i + 1, len(axes)):\n",
    "        fig.delaxes(axes[j])\n",
    "\n",
    "    plt.suptitle(f'{feature.capitalize()} KDE Plot for {gender.capitalize()} across Languages', fontsize=16, y=1.02)\n",
    "    plt.tight_layout()\n",
    "\n",
    "    if SAVE_PLOTS:\n",
    "        save_path = PLOTS_DIR / 'kde' / f'{feature}_{gender}'\n",
    "        save_path.mkdir(exist_ok=True, parents=True)\n",
    "        plt.savefig(save_path / f'kde_{feature}_{gender}_all_languages_subplot.svg')\n",
    "\n",
    "    plt.show()\n",
    "\n",
    "\n",
    "def plot_combined_kde(feature: str, gender: str):\n",
    "    combined_df = pd.concat([load_features(lang)[[feature, 'gender']].assign(language=lang)\n",
    "                             for lang in LANGUAGE_CODES], ignore_index=True)\n",
    "    \n",
    "    plt.figure(figsize=(12, 8))\n",
    "\n",
    "    sns.kdeplot(data=combined_df[combined_df['gender'].str.contains(gender, case=False)], \n",
    "                x=feature, hue='language', fill=False, bw_adjust=1.5)\n",
    "    \n",
    "    plt.title(f'{feature} KDE Plot for {gender.capitalize()} (All Languages)')\n",
    "\n",
    "    if SAVE_PLOTS:\n",
    "        save_path = PLOTS_DIR / 'kde' / f'{feature}_{gender}'\n",
    "        save_path.mkdir(exist_ok=True, parents=True)\n",
    "        plt.savefig(PLOTS_DIR / f'kde_{feature}_{gender}_all_languages.svg')\n",
    "\n",
    "    plt.show()\n",
    "\n",
    "\n",
    "def analyze_kde_for_feature(feature: str):\n",
    "    genders = ['male', 'female']\n",
    "\n",
    "    for gender in genders:\n",
    "        print(f\"Processing {feature} for {gender.capitalize()}...\")\n",
    "\n",
    "        plot_kde_per_language(feature, gender)\n",
    "\n",
    "        plot_combined_kde(feature, gender)"
   ]
  },
  {
   "cell_type": "code",
   "execution_count": null,
   "metadata": {},
   "outputs": [],
   "source": [
    "analyze_kde_for_feature('pitch_mean')\n",
    "analyze_kde_for_feature('hnr_mean')\n",
    "analyze_kde_for_feature('spectral_centroid_mean')\n",
    "analyze_kde_for_feature('spectral_bandwidth_mean')\n",
    "analyze_kde_for_feature('spectral_flatness_mean')\n",
    "analyze_kde_for_feature('zcr_mean')"
   ]
  },
  {
   "cell_type": "markdown",
   "metadata": {},
   "source": [
    "### **6.2 Boxplots**"
   ]
  },
  {
   "cell_type": "code",
   "execution_count": null,
   "metadata": {},
   "outputs": [],
   "source": [
    "def plot_boxplot_per_language(feature: str, gender: str):\n",
    "    combined_data = []\n",
    "\n",
    "    for lang_code in LANGUAGE_CODES:\n",
    "        df_features = load_features(lang_code)\n",
    "\n",
    "        if df_features is None:\n",
    "            continue\n",
    "\n",
    "        df_gender = df_features[df_features['gender'].str.startswith(gender)].copy()\n",
    "        df_gender.loc[:, 'language'] = lang_code\n",
    "\n",
    "        combined_data.append(df_gender[[feature, 'language']])\n",
    "\n",
    "    combined_df = pd.concat(combined_data, ignore_index=True)\n",
    "\n",
    "    plt.figure(figsize=(15, 6))\n",
    "    sns.boxplot(data=combined_df, x='language', y=feature)\n",
    "\n",
    "    plt.title(f'{feature.capitalize()} Boxplot for {gender.capitalize()} across Languages', fontsize=16)\n",
    "    plt.xlabel('Language')\n",
    "    plt.ylabel(feature.capitalize())\n",
    "\n",
    "    if SAVE_PLOTS:\n",
    "        save_path = PLOTS_DIR / 'boxplot' / f'{feature}_{gender}'\n",
    "        save_path.mkdir(exist_ok=True, parents=True)\n",
    "        plt.savefig(save_path / f'boxplot_{feature}_{gender}_all_languages.svg')\n",
    "\n",
    "    plt.show()\n",
    "\n",
    "\n",
    "def analyze_boxplot_for_feature(feature: str):\n",
    "    genders = ['male', 'female']\n",
    "\n",
    "    for gender in genders:\n",
    "        print(f\"Processing {feature} for {gender.capitalize()}...\")\n",
    "\n",
    "        plot_boxplot_per_language(feature, gender)"
   ]
  },
  {
   "cell_type": "code",
   "execution_count": null,
   "metadata": {},
   "outputs": [],
   "source": [
    "analyze_boxplot_for_feature('pitch_mean')\n",
    "analyze_boxplot_for_feature('hnr_mean')\n",
    "analyze_boxplot_for_feature('spectral_centroid_mean')\n",
    "analyze_boxplot_for_feature('spectral_bandwidth_mean')\n",
    "analyze_boxplot_for_feature('spectral_flatness_mean')\n",
    "analyze_boxplot_for_feature('zcr_mean')"
   ]
  },
  {
   "cell_type": "markdown",
   "metadata": {},
   "source": [
    "### **6.3 Heatmaps**"
   ]
  },
  {
   "cell_type": "code",
   "execution_count": null,
   "metadata": {},
   "outputs": [],
   "source": [
    "def plot_heatmap_per_language(feature: str, gender: str):\n",
    "    combined_data = []\n",
    "\n",
    "    for lang_code in LANGUAGE_CODES:\n",
    "        df_features = load_features(lang_code)\n",
    "\n",
    "        if df_features is None:\n",
    "            continue\n",
    "\n",
    "        df_gender = df_features[df_features['gender'].str.startswith(gender)].copy()\n",
    "        df_gender['language'] = lang_code\n",
    "\n",
    "        combined_data.append(df_gender[[feature, 'language']])\n",
    "\n",
    "    combined_df = pd.concat(combined_data, ignore_index=True)\n",
    "\n",
    "    pivot_df = combined_df.pivot_table(index='language', values=feature, aggfunc='mean')\n",
    "\n",
    "    plt.figure(figsize=(10, 6))\n",
    "    sns.heatmap(pivot_df, annot=True, cmap='coolwarm', cbar_kws={'label': feature.capitalize()})\n",
    "    \n",
    "    plt.title(f'{feature.capitalize()} Heatmap for {gender.capitalize()} across Languages', fontsize=16)\n",
    "    plt.xlabel('Language')\n",
    "    plt.ylabel('Average Value')\n",
    "\n",
    "    if SAVE_PLOTS:\n",
    "        save_path = PLOTS_DIR / 'heatmap' / f'{feature}_{gender}'\n",
    "        save_path.mkdir(exist_ok=True, parents=True)\n",
    "        plt.savefig(save_path / f'heatmap_{feature}_{gender}_all_languages.svg')\n",
    "\n",
    "    plt.show()\n",
    "\n",
    "\n",
    "def analyze_heatmap_for_feature(feature: str):\n",
    "    genders = ['male', 'female']\n",
    "\n",
    "    for gender in genders:\n",
    "        print(f\"Processing {feature} for {gender.capitalize()}...\")\n",
    "\n",
    "        plot_heatmap_per_language(feature, gender)"
   ]
  },
  {
   "cell_type": "code",
   "execution_count": null,
   "metadata": {},
   "outputs": [],
   "source": [
    "analyze_heatmap_for_feature('pitch_mean')\n",
    "analyze_heatmap_for_feature('hnr_mean')\n",
    "analyze_heatmap_for_feature('spectral_centroid_mean')\n",
    "analyze_heatmap_for_feature('spectral_bandwidth_mean')\n",
    "analyze_heatmap_for_feature('spectral_flatness_mean')\n",
    "analyze_heatmap_for_feature('zcr_mean')"
   ]
  },
  {
   "cell_type": "markdown",
   "metadata": {},
   "source": [
    "### **6.4 Violin Plots**"
   ]
  },
  {
   "cell_type": "code",
   "execution_count": null,
   "metadata": {},
   "outputs": [],
   "source": [
    "def plot_violinplot_per_language(feature: str, gender: str):\n",
    "    combined_data = []\n",
    "\n",
    "    for lang_code in LANGUAGE_CODES:\n",
    "        df_features = load_features(lang_code)\n",
    "\n",
    "        if df_features is None:\n",
    "            continue\n",
    "\n",
    "        df_gender = df_features[df_features['gender'].str.startswith(gender)].copy()\n",
    "        df_gender['language'] = lang_code\n",
    "\n",
    "        combined_data.append(df_gender[[feature, 'language']])\n",
    "\n",
    "    combined_df = pd.concat(combined_data, ignore_index=True)\n",
    "\n",
    "    plt.figure(figsize=(15, 6))\n",
    "    sns.violinplot(data=combined_df, x='language', y=feature)\n",
    "\n",
    "    plt.title(f'{feature.capitalize()} Violin Plot for {gender.capitalize()} across Languages', fontsize=16)\n",
    "    plt.xlabel('Language')\n",
    "    plt.ylabel(feature.capitalize())\n",
    "\n",
    "    if SAVE_PLOTS:\n",
    "        save_path = PLOTS_DIR / 'violinplot' / f'{feature}_{gender}'\n",
    "        save_path.mkdir(exist_ok=True, parents=True)\n",
    "        plt.savefig(save_path / f'violinplot_{feature}_{gender}_all_languages.svg')\n",
    "\n",
    "    plt.show()\n",
    "\n",
    "\n",
    "def analyze_violinplot_for_feature(feature: str):\n",
    "    genders = ['male', 'female']\n",
    "\n",
    "    for gender in genders:\n",
    "        print(f\"Processing {feature} for {gender.capitalize()}...\")\n",
    "\n",
    "        plot_violinplot_per_language(feature, gender)\n"
   ]
  },
  {
   "cell_type": "code",
   "execution_count": null,
   "metadata": {},
   "outputs": [],
   "source": [
    "analyze_violinplot_for_feature('pitch_mean')\n",
    "analyze_violinplot_for_feature('hnr_mean')\n",
    "analyze_violinplot_for_feature('spectral_centroid_mean')\n",
    "analyze_violinplot_for_feature('spectral_bandwidth_mean')\n",
    "analyze_violinplot_for_feature('spectral_flatness_mean')\n",
    "analyze_violinplot_for_feature('zcr_mean')"
   ]
  },
  {
   "cell_type": "markdown",
   "metadata": {},
   "source": [
    "## **7. Feature Statistics**"
   ]
  },
  {
   "cell_type": "code",
   "execution_count": null,
   "metadata": {},
   "outputs": [],
   "source": [
    "def compute_statistics_per_language(feature: str, gender: str):\n",
    "    stats_data = []\n",
    "\n",
    "    for lang_code in LANGUAGE_CODES:\n",
    "        df_features = load_features(lang_code)\n",
    "\n",
    "        if df_features is None:\n",
    "            continue\n",
    "\n",
    "        df_gender = df_features[df_features['gender'].str.startswith(gender)].copy()\n",
    "\n",
    "        feature_stats = {\n",
    "            'language': lang_code,\n",
    "            'gender': gender,\n",
    "            'mean': df_gender[feature].mean(),\n",
    "            'min': df_gender[feature].min(),\n",
    "            'max': df_gender[feature].max(),\n",
    "            'std': df_gender[feature].std(),\n",
    "            'var': df_gender[feature].var(),\n",
    "            'median': df_gender[feature].median(),\n",
    "            'skew': df_gender[feature].skew(),\n",
    "            'kurtosis': df_gender[feature].kurt()\n",
    "        }\n",
    "\n",
    "        stats_data.append(feature_stats)\n",
    "\n",
    "    stats_df = pd.DataFrame(stats_data)\n",
    "    \n",
    "    return stats_df\n",
    "\n",
    "def analyze_statistics_for_feature(feature: str):\n",
    "    genders = ['male', 'female']\n",
    "    all_stats = []\n",
    "\n",
    "    for gender in genders:\n",
    "        print(f\"Computing statistics for {feature} for {gender.capitalize()}...\")\n",
    "\n",
    "        stats_df = compute_statistics_per_language(feature, gender)\n",
    "        print(f\"\\nStatistics for {gender.capitalize()}:\\n\", stats_df)\n",
    "        \n",
    "        all_stats.append(stats_df)\n",
    "\n",
    "    combined_stats_df = pd.concat(all_stats, ignore_index=True)\n",
    "    \n",
    "    return combined_stats_df"
   ]
  },
  {
   "cell_type": "code",
   "execution_count": null,
   "metadata": {},
   "outputs": [],
   "source": [
    "analyze_statistics_for_feature('pitch_mean')\n",
    "analyze_statistics_for_feature('hnr_mean')\n",
    "analyze_statistics_for_feature('spectral_centroid_mean')\n",
    "analyze_statistics_for_feature('spectral_bandwidth_mean')\n",
    "analyze_statistics_for_feature('spectral_flatness_mean')\n",
    "analyze_statistics_for_feature('zcr_mean')"
   ]
  }
 ],
 "metadata": {
  "kernelspec": {
   "display_name": "Python 3",
   "language": "python",
   "name": "python3"
  },
  "language_info": {
   "codemirror_mode": {
    "name": "ipython",
    "version": 3
   },
   "file_extension": ".py",
   "mimetype": "text/x-python",
   "name": "python",
   "nbconvert_exporter": "python",
   "pygments_lexer": "ipython3",
   "version": "3.12.4"
  }
 },
 "nbformat": 4,
 "nbformat_minor": 2
}
