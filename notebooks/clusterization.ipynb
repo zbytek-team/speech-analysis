{
 "cells": [
  {
   "cell_type": "code",
   "execution_count": 4,
   "metadata": {},
   "outputs": [],
   "source": [
    "import pandas as pd\n",
    "import numpy as np\n",
    "import re\n",
    "import ast\n",
    "import matplotlib.pyplot as plt\n",
    "from sklearn.cluster import KMeans\n",
    "from sklearn.metrics import silhouette_score\n",
    "from pathlib import Path\n",
    "from sklearn.preprocessing import StandardScaler\n",
    "\n",
    "RELATIVE_FEATURES_DIR = '../data/features'\n",
    "LANGUAGES = [                               # Languages to consider\n",
    "    'ar',\n",
    "    'en',\n",
    "    'es',\n",
    "    'ja',\n",
    "    'pl',\n",
    "    'ru',\n",
    "    'sw',\n",
    "    'tr',\n",
    "    'uz',\n",
    "    'yue',\n",
    "    'zh-TW'\n",
    "]\n",
    "NO_OF_LANGUAGES = len(LANGUAGES)"
   ]
  },
  {
   "cell_type": "code",
   "execution_count": 5,
   "metadata": {},
   "outputs": [],
   "source": [
    "def fix_array_format(arr_str):\n",
    "    arr_str = re.sub(r\"\\s+\", \",\", arr_str.strip())\n",
    "    arr_str = arr_str.replace(\"[,\", \"[\").replace(\",]\", \"]\")\n",
    "    return np.array(ast.literal_eval(arr_str))\n",
    "\n",
    "def fix_list_values(df):\n",
    "    list_columns = ['mfcc_mean', 'mfcc_var', 'spectral_contrast_mean', 'spectral_contrast_var', 'chroma_mean', 'chroma_var']\n",
    "    for col in list_columns:\n",
    "        features_df = df[col].apply(fix_array_format).apply(pd.Series)\n",
    "        features_df.columns = [f'{col}_{i}' for i in range(features_df.shape[1])]\n",
    "        df = pd.concat([df.drop(columns=[col]), features_df], axis=1)\n",
    "    \n",
    "    return df"
   ]
  },
  {
   "cell_type": "code",
   "execution_count": 6,
   "metadata": {},
   "outputs": [],
   "source": [
    "# we need a dataset containing all the features of all languages, so array [x, 76] where x is the number of samples\n",
    "all_languages_features = []\n",
    "y = []\n",
    "\n",
    "for language in LANGUAGES:\n",
    "    file = Path(f'{RELATIVE_FEATURES_DIR}') / f'{language}_features.csv'\n",
    "    scaler = StandardScaler()\n",
    "    df = pd.read_csv(file).iloc[:, 3:]\n",
    "    df = fix_list_values(df)\n",
    "\n",
    "    X = df.to_numpy(dtype=float)\n",
    "\n",
    "    scaled_X = scaler.fit_transform(X)\n",
    "    all_languages_features.append(scaled_X)\n",
    "    y.extend([file.stem.split('_')[0]] * scaled_X.shape[0])\n",
    "    \n",
    "# merge all languages features into one array\n",
    "all_languages_features = np.concatenate(all_languages_features, axis=0)"
   ]
  },
  {
   "cell_type": "code",
   "execution_count": 7,
   "metadata": {},
   "outputs": [
    {
     "name": "stdout",
     "output_type": "stream",
     "text": [
      "(250449, 76)\n"
     ]
    }
   ],
   "source": [
    "print(all_languages_features.shape)"
   ]
  },
  {
   "cell_type": "code",
   "execution_count": 8,
   "metadata": {},
   "outputs": [
    {
     "name": "stdout",
     "output_type": "stream",
     "text": [
      "[ 0.30469834  0.15964809 -0.00656864 -0.47298932  2.81133538  3.38454523\n",
      "  2.14788945  0.48228314  0.01919794 -0.12219391  3.78002087  4.92480751\n",
      " -1.00105453 -1.57626051  1.27602767  0.68673913 -0.41577601  1.50481911\n",
      " -1.21544802  1.33933897 -0.31158697  0.67905537  0.22094979 -0.31213006\n",
      " -0.21225374 -0.78149397 -0.85942337 -1.11918704 -0.22053813 -0.07074415\n",
      "  0.2203941  -1.0131246  -0.11331924 -0.7774313  -1.33198837 -0.88721017\n",
      " -1.13704602 -0.6627706   0.14824168  0.00994626 -0.22732118 -1.03553789\n",
      " -0.89162864 -0.95239277  1.55324068  0.68191097  0.07587633  0.77551006\n",
      " -0.75005213 -0.29586147 -0.41955485 -0.76195085  1.64590607  1.03192577\n",
      "  0.71374229  0.3178333   0.33291214  0.03684102  0.06752963  0.13547741\n",
      "  0.27523369  0.76798359  1.23971286  1.65536637 -0.85890805 -0.84015991\n",
      " -0.70063002  0.10785807  1.02447366  0.39917843  0.22120589 -0.20862162\n",
      " -0.96546343 -1.29987773 -1.02146561 -1.28077086]\n"
     ]
    }
   ],
   "source": [
    "print(all_languages_features[0])"
   ]
  },
  {
   "cell_type": "code",
   "execution_count": 9,
   "metadata": {},
   "outputs": [],
   "source": [
    "import pandas as pd\n",
    "from sklearn.feature_selection import RFE\n",
    "from sklearn.linear_model import LogisticRegression\n",
    "from sklearn.impute import SimpleImputer\n",
    "\n",
    "all_languages_features_df = pd.DataFrame(all_languages_features)\n",
    "\n",
    "# Handle missing values\n",
    "imputer = SimpleImputer(strategy='mean')\n",
    "all_languages_features_df = pd.DataFrame(imputer.fit_transform(all_languages_features_df))\n",
    "\n",
    "# Initialize the \n",
    "model = LogisticRegression()\n",
    "\n",
    "# Perform RFE\n",
    "rfe = RFE(model, n_features_to_select=3)\n",
    "fit = rfe.fit(all_languages_features_df, y)\n",
    "\n",
    "# Get selected features\n",
    "selected_features = all_languages_features_df.columns[fit.support_]\n",
    "selected_features = all_languages_features_df[selected_features]"
   ]
  },
  {
   "cell_type": "code",
   "execution_count": null,
   "metadata": {},
   "outputs": [
    {
     "name": "stdout",
     "output_type": "stream",
     "text": [
      "              32        54        55\n",
      "0      -0.113319  0.713742  0.317833\n",
      "1      -1.125043  0.275704  0.478589\n",
      "2      -0.251685  0.633876 -0.625273\n",
      "3       0.613502  0.973734 -0.259717\n",
      "4       0.600030 -1.313046 -1.381089\n",
      "...          ...       ...       ...\n",
      "250444  0.353849 -1.465025 -2.380158\n",
      "250445  0.299676 -1.570097 -1.939527\n",
      "250446  0.049682 -0.678097 -1.558810\n",
      "250447  0.704855 -1.635477 -1.568961\n",
      "250448  1.437128 -1.394972 -1.508226\n",
      "\n",
      "[250449 rows x 3 columns]\n"
     ]
    }
   ],
   "source": [
    "print(selected_features)"
   ]
  },
  {
   "cell_type": "code",
   "execution_count": 11,
   "metadata": {},
   "outputs": [
    {
     "name": "stdout",
     "output_type": "stream",
     "text": [
      "(250449, 3)\n"
     ]
    }
   ],
   "source": [
    "print(selected_features.shape)"
   ]
  },
  {
   "cell_type": "code",
   "execution_count": 12,
   "metadata": {},
   "outputs": [
    {
     "name": "stderr",
     "output_type": "stream",
     "text": [
      "/opt/anaconda3/lib/python3.11/site-packages/sklearn/cluster/_kmeans.py:870: FutureWarning: The default value of `n_init` will change from 10 to 'auto' in 1.4. Set the value of `n_init` explicitly to suppress the warning\n",
      "  warnings.warn(\n",
      "/opt/anaconda3/lib/python3.11/site-packages/sklearn/cluster/_kmeans.py:870: FutureWarning: The default value of `n_init` will change from 10 to 'auto' in 1.4. Set the value of `n_init` explicitly to suppress the warning\n",
      "  warnings.warn(\n",
      "/opt/anaconda3/lib/python3.11/site-packages/sklearn/cluster/_kmeans.py:870: FutureWarning: The default value of `n_init` will change from 10 to 'auto' in 1.4. Set the value of `n_init` explicitly to suppress the warning\n",
      "  warnings.warn(\n",
      "/opt/anaconda3/lib/python3.11/site-packages/sklearn/cluster/_kmeans.py:870: FutureWarning: The default value of `n_init` will change from 10 to 'auto' in 1.4. Set the value of `n_init` explicitly to suppress the warning\n",
      "  warnings.warn(\n"
     ]
    },
    {
     "data": {
      "image/png": "[encoded data removed]",
      "text/plain": [
       "<Figure size 1000x700 with 1 Axes>"
      ]
     },
     "metadata": {},
     "output_type": "display_data"
    }
   ],
   "source": [
    "range_n_clusters = range(2, NO_OF_LANGUAGES)\n",
    "silhouette_scores = []\n",
    "\n",
    "for n_clusters in range_n_clusters:\n",
    "    kmeans = KMeans(n_clusters=n_clusters, random_state=42)\n",
    "    cluster_labels = kmeans.fit_predict(selected_features)\n",
    "    silhouette_avg = silhouette_score(selected_features, cluster_labels)\n",
    "    silhouette_scores.append(silhouette_avg)\n",
    "\n",
    "# Plot silhouette scores to visualize the optimal number of clusters\n",
    "plt.figure(figsize=(10, 7))\n",
    "plt.plot(range_n_clusters, silhouette_scores, marker='o')\n",
    "plt.xlabel(\"Number of clusters\")\n",
    "plt.ylabel(\"Silhouette Score\")\n",
    "plt.title(\"Silhouette Scores for Different Numbers of Clusters\")\n",
    "plt.show()\n"
   ]
  },
  {
   "cell_type": "code",
   "execution_count": 25,
   "metadata": {},
   "outputs": [
    {
     "name": "stdout",
     "output_type": "stream",
     "text": [
      "6\n",
      "Index([32, 54, 55], dtype='int64')\n",
      "pitch_mean\n"
     ]
    }
   ],
   "source": [
    "print(NO_OF_LANGUAGES)\n",
    "\n",
    "# print names of selected features\n",
    "print(selected_features.columns)\n",
    "\n",
    "df = pd.read_csv(f'{RELATIVE_FEATURES_DIR}/ab_features.csv').iloc[:, 3:]\n",
    "df = fix_list_values(df)"
   ]
  },
  {
   "cell_type": "code",
   "execution_count": 30,
   "metadata": {},
   "outputs": [
    {
     "name": "stdout",
     "output_type": "stream",
     "text": [
      "mfcc_var_7\n",
      "chroma_mean_2\n",
      "chroma_mean_3\n"
     ]
    }
   ],
   "source": [
    "# print columns of selected features\n",
    "print(df.columns[32])\n",
    "print(df.columns[54])\n",
    "print(df.columns[55])"
   ]
  },
  {
   "cell_type": "markdown",
   "metadata": {},
   "source": [
    "#K-means\n",
    "#DBSCAN\n",
    "#Hierarchiczna\n",
    "#Gaussian mixture model"
   ]
  }
 ],
 "metadata": {
  "kernelspec": {
   "display_name": "base",
   "language": "python",
   "name": "python3"
  },
  "language_info": {
   "codemirror_mode": {
    "name": "ipython",
    "version": 3
   },
   "file_extension": ".py",
   "mimetype": "text/x-python",
   "name": "python",
   "nbconvert_exporter": "python",
   "pygments_lexer": "ipython3",
   "version": "3.11.8"
  }
 },
 "nbformat": 4,
 "nbformat_minor": 2
}
